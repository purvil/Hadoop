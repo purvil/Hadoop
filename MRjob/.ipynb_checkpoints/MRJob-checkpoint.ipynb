{
 "cells": [
  {
   "cell_type": "markdown",
   "metadata": {},
   "source": [
    "### Count ratings"
   ]
  },
  {
   "cell_type": "code",
   "execution_count": 2,
   "metadata": {},
   "outputs": [
    {
     "name": "stdout",
     "output_type": "stream",
     "text": [
      "Overwriting ratings.py\n"
     ]
    }
   ],
   "source": [
    "%%file ratings.py\n",
    "from mrjob.job import MRJob\n",
    "\n",
    "class MRRatingCounter(MRJob):\n",
    "    def mapper(self, key, line):\n",
    "        userId, movieId, rating, timestamp = line.split('\\t')\n",
    "        yield rating, 1\n",
    "    def reducer(self, rating, occurences):\n",
    "        yield rating, sum(occurences)\n",
    "        \n",
    "if __name__ == '__main__':\n",
    "    MRRatingCounter.run()"
   ]
  },
  {
   "cell_type": "markdown",
   "metadata": {},
   "source": [
    "### Average number of friends by age"
   ]
  },
  {
   "cell_type": "code",
   "execution_count": 11,
   "metadata": {},
   "outputs": [
    {
     "name": "stdout",
     "output_type": "stream",
     "text": [
      "Overwriting friends_by_age.py\n"
     ]
    }
   ],
   "source": [
    "%%file friends_by_age.py\n",
    "\n",
    "from mrjob.job import MRJob\n",
    "\n",
    "class MRAverageFriend(MRJob):\n",
    "    def mapper(self, key, line):\n",
    "        u_id, name, age, friend_count = line.split(',') \n",
    "        yield age.strip(), int(friend_count)\n",
    "    def reducer(self, key, count_lst):\n",
    "        c = 0\n",
    "        total = 0\n",
    "        for count in count_lst:\n",
    "            c += 1\n",
    "            total += count\n",
    "        yield key, total/c\n",
    "    \n",
    "if __name__ == \"__main__\":\n",
    "    MRAverageFriend.run()"
   ]
  },
  {
   "cell_type": "code",
   "execution_count": null,
   "metadata": {},
   "outputs": [],
   "source": [
    "# %load avg_friend_by_age.txt\n",
    "\"18\"\t343.375\n",
    "\"19\"\t213.27272727272728\n",
    "\"20\"\t165.0\n",
    "\"21\"\t350.875\n",
    "\"22\"\t206.42857142857142\n",
    "\"23\"\t246.3\n",
    "\"24\"\t233.8\n",
    "\"25\"\t197.45454545454547\n",
    "\"26\"\t242.05882352941177\n",
    "\"27\"\t228.125\n",
    "\"28\"\t209.1\n",
    "\"29\"\t215.91666666666666\n",
    "\"30\"\t235.8181818181818\n",
    "\"31\"\t267.25\n",
    "\"32\"\t207.9090909090909\n",
    "\"33\"\t325.3333333333333\n",
    "\"34\"\t245.5\n",
    "\"35\"\t211.625\n",
    "\"36\"\t246.6\n",
    "\"37\"\t249.33333333333334\n",
    "\"38\"\t193.53333333333333\n",
    "\"39\"\t169.28571428571428\n",
    "\"40\"\t250.8235294117647\n",
    "\"41\"\t268.55555555555554\n",
    "\"42\"\t303.5\n",
    "\"43\"\t230.57142857142858\n",
    "\"44\"\t282.1666666666667\n",
    "\"45\"\t309.53846153846155\n",
    "\"46\"\t223.69230769230768\n",
    "\"47\"\t233.22222222222223\n",
    "\"48\"\t281.4\n",
    "\"49\"\t184.66666666666666\n",
    "\"50\"\t254.6\n",
    "\"51\"\t302.14285714285717\n",
    "\"52\"\t340.6363636363636\n",
    "\"53\"\t222.85714285714286\n",
    "\"54\"\t278.0769230769231\n",
    "\"55\"\t295.53846153846155\n",
    "\"56\"\t306.6666666666667\n",
    "\"57\"\t258.8333333333333\n",
    "\"58\"\t116.54545454545455\n",
    "\"59\"\t220.0\n",
    "\"60\"\t202.71428571428572\n",
    "\"61\"\t256.22222222222223\n",
    "\"62\"\t220.76923076923077\n",
    "\"63\"\t384.0\n",
    "\"64\"\t281.3333333333333\n",
    "\"65\"\t298.2\n",
    "\"66\"\t276.44444444444446\n",
    "\"67\"\t214.625\n",
    "\"68\"\t269.6\n",
    "\"69\"\t235.2\n"
   ]
  },
  {
   "cell_type": "markdown",
   "metadata": {},
   "source": [
    "### Min temperature"
   ]
  },
  {
   "cell_type": "code",
   "execution_count": 19,
   "metadata": {},
   "outputs": [
    {
     "name": "stdout",
     "output_type": "stream",
     "text": [
      "Overwriting min_temp.py\n"
     ]
    }
   ],
   "source": [
    "%%file min_temp.py\n",
    "\n",
    "from mrjob.job import MRJob\n",
    "\n",
    "class MRMinTemp(MRJob):\n",
    "    def mapper(self, key, line):\n",
    "        station, date, temp_type, temp, _, _, _, _ = line.split(',')\n",
    "        if temp_type == 'TMIN':\n",
    "            yield station, float(temp)\n",
    "    def reducer(self, key, temp_lst):\n",
    "        yield key, min(temp_lst)\n",
    "        \n",
    "if __name__ == \"__main__\":\n",
    "    MRMinTemp.run()"
   ]
  },
  {
   "cell_type": "code",
   "execution_count": null,
   "metadata": {},
   "outputs": [],
   "source": [
    "# %load min_temp.txt\n",
    "\"EZE00100082\"\t-135.0\n",
    "\"ITE00100554\"\t-148.0\n"
   ]
  },
  {
   "cell_type": "markdown",
   "metadata": {},
   "source": [
    "### Word count"
   ]
  },
  {
   "cell_type": "code",
   "execution_count": 29,
   "metadata": {},
   "outputs": [
    {
     "name": "stdout",
     "output_type": "stream",
     "text": [
      "Overwriting word_count.py\n"
     ]
    }
   ],
   "source": [
    "%%file word_count.py\n",
    "\n",
    "from mrjob.job import MRJob\n",
    "import re\n",
    "\n",
    "class MRWordCount(MRJob):\n",
    "    def mapper(self, _, line):\n",
    "        line = re.sub('[^A-Za-z]', ' ', line)\n",
    "        for word in line.split():\n",
    "            yield word.lower(), 1\n",
    "    def reducer(self, word, count):\n",
    "        yield word, sum(count)\n",
    "        \n",
    "if __name__ == \"__main__\":\n",
    "    MRWordCount.run()"
   ]
  },
  {
   "cell_type": "markdown",
   "metadata": {},
   "source": [
    "### Chained MR"
   ]
  },
  {
   "cell_type": "code",
   "execution_count": 32,
   "metadata": {},
   "outputs": [
    {
     "name": "stdout",
     "output_type": "stream",
     "text": [
      "Overwriting word_count_chained.py\n"
     ]
    }
   ],
   "source": [
    "%%file word_count_chained.py\n",
    "\n",
    "from mrjob.job import MRJob\n",
    "from mrjob.step import MRStep\n",
    "import re\n",
    "\n",
    "class MRWordCount(MRJob):\n",
    "    def steps(self):\n",
    "        return [\n",
    "            MRStep(mapper=self.mapper_get_words, reducer=self.reducer_count_words),\n",
    "            MRStep(mapper=self.mapper_flip_key_val, reducer=self.reducer_final)\n",
    "        ]\n",
    "    def mapper_get_words(self, _, line):\n",
    "        line = re.sub('[^A-Za-z]', ' ', line)\n",
    "        for word in line.split():\n",
    "            yield word.lower(), 1\n",
    "    def reducer_count_words(self, word, count):\n",
    "        yield word, sum(count)\n",
    "        \n",
    "    def mapper_flip_key_val(self, word, count):\n",
    "        yield '%04d'%int(count), word\n",
    "        \n",
    "    def reducer_final(self, count, word):\n",
    "        for w in word:\n",
    "            yield count, w\n",
    "        \n",
    "if __name__ == \"__main__\":\n",
    "    MRWordCount.run()"
   ]
  },
  {
   "cell_type": "markdown",
   "metadata": {},
   "source": [
    "### Total money spent by customer"
   ]
  },
  {
   "cell_type": "code",
   "execution_count": 36,
   "metadata": {},
   "outputs": [
    {
     "name": "stdout",
     "output_type": "stream",
     "text": [
      "Overwriting total_spend.py\n"
     ]
    }
   ],
   "source": [
    "%%file total_spend.py\n",
    "\n",
    "from mrjob.job import MRJob\n",
    "from mrjob.step import MRStep\n",
    "\n",
    "\n",
    "class MRTotalSpent(MRJob):\n",
    "    def steps(self):\n",
    "        return [\n",
    "            MRStep(mapper=self.mapper, reducer= self.reducer),\n",
    "            MRStep(mapper=self.mapper_2, reducer=self.reducer_2)\n",
    "        ]\n",
    "    def mapper(self, _, line):\n",
    "        customer, item, amount = line.split(',')\n",
    "        yield customer, float(amount)\n",
    "    def reducer(self, customer, amount):\n",
    "        yield customer, sum(amount)\n",
    "    def mapper_2(self, customer, total):\n",
    "        yield '%04.02f'%total, customer\n",
    "    def reducer_2(self, total, customer):\n",
    "        for name in customer:\n",
    "            yield total, name\n",
    "        \n",
    "if __name__ == \"__main__\":\n",
    "    MRTotalSpent.run()"
   ]
  },
  {
   "cell_type": "markdown",
   "metadata": {},
   "source": [
    "### Combiner\n",
    "* Save network overhead.\n",
    "* Mapper does some reduction before sending it to reducer over network.\n"
   ]
  },
  {
   "cell_type": "code",
   "execution_count": 38,
   "metadata": {},
   "outputs": [
    {
     "name": "stdout",
     "output_type": "stream",
     "text": [
      "Overwriting word_count_with_combiner.py\n"
     ]
    }
   ],
   "source": [
    "%%file word_count_with_combiner.py\n",
    "\n",
    "from mrjob.job import MRJob\n",
    "import re\n",
    "\n",
    "class MRWordCountCombiner(MRJob):\n",
    "    def mapper(self, _, line):\n",
    "        line = re.sub('[^A-Za-z]', ' ', line)\n",
    "        for word in line.split():\n",
    "            yield word.lower(), 1\n",
    "    def reducer(self, word, count):\n",
    "        yield word, sum(count)\n",
    "        \n",
    "    def combiner(self, word, count):\n",
    "        yield word, sum(count)\n",
    "if __name__ == \"__main__\":\n",
    "    MRWordCountCombiner.run()"
   ]
  },
  {
   "cell_type": "markdown",
   "metadata": {},
   "source": [
    "### Most Rated movie"
   ]
  },
  {
   "cell_type": "code",
   "execution_count": 51,
   "metadata": {},
   "outputs": [
    {
     "name": "stdout",
     "output_type": "stream",
     "text": [
      "Overwriting most_rated_movie.py\n"
     ]
    }
   ],
   "source": [
    "%%file most_rated_movie.py\n",
    "\n",
    "from mrjob.job import MRJob\n",
    "from mrjob.step import MRStep\n",
    "\n",
    "class MostRatedMovie(MRJob):\n",
    "    def steps(self):\n",
    "        return [\n",
    "            MRStep(mapper=self.mapper_get_ratings, reducer=self.reducer_movie_review_count),\n",
    "            MRStep(reducer=self.reducer_find_max)\n",
    "        ]\n",
    "    \n",
    "    def mapper_get_ratings(self, _, line):\n",
    "        uid, mid, rating, time = line.split('\\t')\n",
    "        yield mid, 1\n",
    "    \n",
    "    def reducer_movie_review_count(self, movie ,count):\n",
    "        yield None, (sum(count), movie)\n",
    "    \n",
    "    def reducer_find_max(self, _, values):\n",
    "        yield max(values)\n",
    "        \n",
    "if __name__ == \"__main__\":\n",
    "    MostRatedMovie.run()"
   ]
  },
  {
   "cell_type": "code",
   "execution_count": null,
   "metadata": {},
   "outputs": [],
   "source": [
    "# %load most_rated_movie.txt\n",
    "583\t\"50\""
   ]
  },
  {
   "cell_type": "markdown",
   "metadata": {},
   "source": [
    "### Additional options"
   ]
  },
  {
   "cell_type": "code",
   "execution_count": 55,
   "metadata": {},
   "outputs": [
    {
     "name": "stdout",
     "output_type": "stream",
     "text": [
      "Overwriting most_rated_movie_name.py\n"
     ]
    }
   ],
   "source": [
    "%%file most_rated_movie_name.py\n",
    "\n",
    "from mrjob.job import MRJob\n",
    "from mrjob.step import MRStep\n",
    "\n",
    "class MostRatedMovieName(MRJob):\n",
    "    def configure_options(self):\n",
    "        super(MostRatedMovieName, self).configure_options()\n",
    "        self.add_file_option('--items', help='path to u.item') # provide extra file which will go to every node\n",
    "    def steps(self):\n",
    "        return [\n",
    "            MRStep(mapper=self.mapper_get_ratings,reducer_init=self.reducer_init, reducer=self.reducer_movie_review_count),\n",
    "            MRStep(reducer=self.reducer_find_max)\n",
    "        ]\n",
    "    \n",
    "    # Reducer_init runs befroe reducer\n",
    "    def reducer_init(self):\n",
    "        self.movieName = {}\n",
    "        with open('u.Item') as f:\n",
    "            for line in f:\n",
    "                fields = line.split('|')\n",
    "                self.movieName[fields[0]] = fields[1]\n",
    "    def mapper_get_ratings(self, _, line):\n",
    "        uid, mid, rating, time = line.split('\\t')\n",
    "        yield mid, 1\n",
    "    \n",
    "    def reducer_movie_review_count(self, movie ,count):\n",
    "        yield None, (sum(count), self.movieName[movie])\n",
    "    \n",
    "    def reducer_find_max(self, _, values):\n",
    "        yield max(values)\n",
    "        \n",
    "if __name__ == \"__main__\":\n",
    "    MostRatedMovieName.run()"
   ]
  },
  {
   "cell_type": "code",
   "execution_count": null,
   "metadata": {},
   "outputs": [],
   "source": [
    "# %load most_rated_movie_name.txt\n",
    "583\t\"Star Wars (1977)\"\n"
   ]
  },
  {
   "cell_type": "markdown",
   "metadata": {},
   "source": [
    "### SuperHero Social Network"
   ]
  },
  {
   "cell_type": "code",
   "execution_count": 14,
   "metadata": {},
   "outputs": [
    {
     "name": "stdout",
     "output_type": "stream",
     "text": [
      "Overwriting popular_superhero.py\n"
     ]
    }
   ],
   "source": [
    "%%file popular_superhero.py\n",
    "\n",
    "from mrjob.job import MRJob\n",
    "from mrjob.step import MRStep\n",
    "\n",
    "class PopularSuperHero(MRJob):\n",
    "    def configure_options(self):\n",
    "        super(PopularSuperHero, self).configure_options()\n",
    "        self.add_file_option('--name', help='path to Marvel-names.txt')\n",
    "        \n",
    "    def steps(self):\n",
    "        return [\n",
    "            MRStep(mapper=self.mapper, reducer=self.reducer),\n",
    "            MRStep(mapper_init= self.mapper_lookup, mapper=self.mapper_sort, reducer=self.reducer_max)\n",
    "        ]\n",
    "    \n",
    "    def mapper(self, _, line):\n",
    "        data = line.split()\n",
    "        yield int(data[0]), len(data) - 1\n",
    "    \n",
    "    def reducer(self, hero_id, total):\n",
    "        yield hero_id, sum(total)\n",
    "        \n",
    "    def mapper_lookup(self):\n",
    "        self.lookup = {}\n",
    "        with open('Marvel-names.txt') as f:\n",
    "            for data in f:\n",
    "                fields = data.split('\"')\n",
    "                heroId = int(fields[0])\n",
    "                self.lookup[heroId] = fields[1]\n",
    "        \n",
    "    def mapper_sort(self, hero_id, total):\n",
    "        hero_name = self.lookup[hero_id]\n",
    "        yield None, (total, hero_name)\n",
    "        \n",
    "    def reducer_max(self, _, hero_lst):\n",
    "        yield max(hero_lst)\n",
    "        \n",
    "if __name__ == \"__main__\":\n",
    "    PopularSuperHero.run()"
   ]
  },
  {
   "cell_type": "markdown",
   "metadata": {},
   "source": [
    "### Degrees of seperation"
   ]
  },
  {
   "cell_type": "code",
   "execution_count": null,
   "metadata": {},
   "outputs": [],
   "source": []
  }
 ],
 "metadata": {
  "kernelspec": {
   "display_name": "Python 3",
   "language": "python",
   "name": "python3"
  },
  "language_info": {
   "codemirror_mode": {
    "name": "ipython",
    "version": 3
   },
   "file_extension": ".py",
   "mimetype": "text/x-python",
   "name": "python",
   "nbconvert_exporter": "python",
   "pygments_lexer": "ipython3",
   "version": "3.7.1"
  }
 },
 "nbformat": 4,
 "nbformat_minor": 2
}
